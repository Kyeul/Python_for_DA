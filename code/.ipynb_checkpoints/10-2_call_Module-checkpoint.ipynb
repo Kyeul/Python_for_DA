{
 "cells": [
  {
   "cell_type": "code",
   "execution_count": 1,
   "metadata": {},
   "outputs": [
    {
     "name": "stdout",
     "output_type": "stream",
     "text": [
      "모듈이 정상적으로 임포트되었습니다.\n"
     ]
    }
   ],
   "source": [
    "import my_area as ma"
   ]
  },
  {
   "cell_type": "code",
   "execution_count": 2,
   "metadata": {},
   "outputs": [
    {
     "name": "stdout",
     "output_type": "stream",
     "text": [
      "pi =  3.14\n",
      "quadrangle area =  12\n",
      "circle area =  3.14\n"
     ]
    }
   ],
   "source": [
    "print('pi = ', ma.PI)\n",
    "print('quadrangle area = ', ma.quadrangle_area(3, 4))\n",
    "print('circle area = ', ma.circle_area(1))"
   ]
  },
  {
   "cell_type": "code",
   "execution_count": null,
   "metadata": {},
   "outputs": [],
   "source": []
  }
 ],
 "metadata": {
  "kernelspec": {
   "display_name": "Python 3",
   "language": "python",
   "name": "python3"
  },
  "language_info": {
   "codemirror_mode": {
    "name": "ipython",
    "version": 3
   },
   "file_extension": ".py",
   "mimetype": "text/x-python",
   "name": "python",
   "nbconvert_exporter": "python",
   "pygments_lexer": "ipython3",
   "version": "3.7.3"
  }
 },
 "nbformat": 4,
 "nbformat_minor": 2
}

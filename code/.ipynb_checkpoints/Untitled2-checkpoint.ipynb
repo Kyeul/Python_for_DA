{
 "cells": [
  {
   "cell_type": "code",
   "execution_count": 1,
   "metadata": {},
   "outputs": [],
   "source": [
    "tokens = []"
   ]
  },
  {
   "cell_type": "code",
   "execution_count": 2,
   "metadata": {},
   "outputs": [],
   "source": [
    "\n",
    "# 라이브러리를 로드합니다.\n",
    "from bs4 import BeautifulSoup \n",
    "import requests \n",
    "import re \n",
    "import pandas as pd\n",
    "from konlpy.tag import Kkma\n",
    "from wordcloud import WordCloud, STOPWORDS\n",
    "import matplotlib.pyplot as plt\n",
    "import pickle\n",
    "\n",
    "kkma = Kkma()"
   ]
  },
  {
   "cell_type": "code",
   "execution_count": 3,
   "metadata": {},
   "outputs": [],
   "source": [
    "stopwords = set(STOPWORDS)\n",
    "\n",
    "#뉴스와 관련되어 의미없는 단어들\n",
    "stopwords = stopwords | {\"오류\",\"우회\",\"함수\",\"전재\",\"배포\",\"추가\",\"금지\",\"기자\",\"무단\",\"제공\",\"메인\",\"네이버\",\"국내\",\"채널\",\"구독\",\"운영\",\n",
    "                         \"뉴스\",\"연합\",\"연합뉴스\",\"오늘\",\"오전\",\"오후\",\"어제\",\"무료\",\"생방송\",\"실시간\",\"시간\",\"이후\",\"이번\",\"현장\",\n",
    "                         \"무단전재\",\"경향\",\"경향신문\",\"중앙\",\"중앙일보\",\"조선\",\"조선일보\",\"국가\",\"올해\",\"무단복제\",\"복제\",\"만화\",\"무료만화\",\n",
    "                         \"광고\",\"인기\",\"저작권자\",\"YTN\",\"앵커\",\"이날\",\"기사\",\"사진\",\"취재\",\"보기\", \"동영상\",\"영상\",\"신문\",\"웹툰\", \"사람\", \n",
    "                         \"만화\", \"한겨례\"\n",
    "                        }\n",
    "\n",
    "\n",
    "#중립적 단어들\n",
    "\n",
    "stopwords = stopwords | {\"한국\",\"이주\",\"외국인\",\"국민\",\"노동자\",\"이주노동자\",\"사람\",\"지난해\",\"외국인노동자\",\"때문\",\"평균\",\"내용\",\"이유\",\n",
    "                         \"수준\",\"가운데\",\"결과\",\"지금\",\"예정\",\"내용\",\"정도\",\"가능\",\"사회\",\"관련\",\"가능\",\"대상\",\"결국\",\"가능\",\"지역\",\n",
    "                         \"발생\",\"경우\",\"이상\",\"동안\",\"우리나라\",\"생각\",\"우리\",\"조사\",\"나라\",\"서울\",\"과정\",\"관계자\",\"진행\",\"한국인\",\"처음\",\n",
    "                         \"국적\",\"정부\",\"시작\",\"계획\",\"입국\",\"전체\",\"하다\",\"만큼\",\"경기\",\"경기도\",\"고려\",\"그것\",\"이것\",\"대신\",\"사이\",\n",
    "                         \"무엇\",\"진짜\",\"지난달\",\"최근\",\"두고\",\"데\",\"등\",\"만\",\"중인\",\"당시\",\"다양\",\"자신\",\"어디\",\"대한\",\"대한민국\",\"이제\",\n",
    "                         \"이달\",\"가족\",\"다문화\",\"근로자\",\"체류\",\"이주민\",\"센터\",\"필요\",\"출신\",\"사실\",\"대부분\",\"마련\",\"상황\",\"기준\",\"한겨레\"\n",
    "                         ,\"하나\", \"회사\", \"민국\", \"자기\", \"업체\",\"직영\",\"요즘\",\"이해\",\"표현\",\"시대\",\"거제\"\n",
    "                        }"
   ]
  },
  {
   "cell_type": "markdown",
   "metadata": {},
   "source": [
    "urls = [\n",
    "    'https://news.naver.com/main/read.nhn?mode=LSD&mid=sec&sid1=102&oid=028&aid=0002455338', \n",
    "    'https://news.naver.com/main/read.nhn?mode=LSD&mid=sec&sid1=103&oid=025&aid=0002910256',\n",
    "    'https://news.naver.com/main/read.nhn?mode=LSD&mid=sec&sid1=100&oid=001&aid=0010851256',\n",
    "    'https://news.naver.com/main/read.nhn?mode=LSD&mid=sec&sid1=102&oid=028&aid=0002453954',\n",
    "    'https://news.naver.com/main/read.nhn?mode=LSD&mid=sec&sid1=102&oid=028&aid=0002443741',\n",
    "    'https://news.naver.com/main/read.nhn?mode=LSD&mid=sec&sid1=102&oid=023&aid=0003442326',\n",
    "    'https://news.naver.com/main/read.nhn?mode=LSD&mid=sec&sid1=110&oid=020&aid=0003212405',\n",
    "    'https://news.naver.com/main/read.nhn?mode=LSD&mid=sec&sid1=102&oid=032&aid=0002927074',\n",
    "    'https://news.naver.com/main/read.nhn?mode=LSD&mid=sec&sid1=102&oid=032&aid=0002929046',\n",
    "    'https://news.naver.com/main/read.nhn?mode=LSD&mid=sec&sid1=102&oid=023&aid=0003449654',\n",
    "    'https://news.naver.com/main/read.nhn?mode=LSD&mid=sec&sid1=004&oid=020&aid=0003219514',\n",
    "    'https://news.naver.com/main/read.nhn?mode=LSD&mid=sec&sid1=101&oid=025&aid=0002909619',\n",
    "    'https://news.naver.com/main/read.nhn?mode=LSD&mid=sec&sid1=004&oid=020&aid=0003219520',\n",
    "    'https://news.naver.com/main/read.nhn?mode=LSD&mid=sec&sid1=101&oid=018&aid=0004390619',\n",
    "    'https://news.naver.com/main/read.nhn?mode=LSD&mid=sec&sid1=101&oid=014&aid=0004236880',\n",
    "    'https://news.naver.com/main/read.nhn?mode=LSD&mid=sec&sid1=102&oid=001&aid=0010858884',\n",
    "    'https://news.naver.com/main/read.nhn?mode=LSD&mid=sec&sid1=103&oid=079&aid=0003233217',\n",
    "    'https://news.naver.com/main/read.nhn?mode=LSD&mid=sec&sid1=102&oid=001&aid=0010858892',\n",
    "    'https://news.naver.com/main/read.nhn?mode=LSD&mid=sec&sid1=102&oid=023&aid=0003450258',\n",
    "    'https://news.naver.com/main/read.nhn?mode=LSD&mid=sec&sid1=102&oid=421&aid=0004015866',\n",
    "    'https://news.naver.com/main/read.nhn?mode=LSD&mid=sec&sid1=102&oid=032&aid=0002942969',\n",
    "    'https://news.naver.com/main/read.nhn?mode=LSD&mid=sec&sid1=102&oid=047&aid=0002228356',\n",
    "    'https://news.naver.com/main/read.nhn?mode=LSD&mid=sec&sid1=102&oid=001&aid=0010850044',\n",
    "    'https://news.naver.com/main/read.nhn?mode=LSD&mid=sec&sid1=102&oid=421&aid=0004010170',\n",
    "    'https://news.naver.com/main/read.nhn?mode=LSD&mid=sec&sid1=102&oid=001&aid=0010846093',\n",
    "    'https://news.naver.com/main/read.nhn?mode=LSD&mid=sec&sid1=102&oid=079&aid=0003230601',\n",
    "    'https://news.naver.com/main/read.nhn?mode=LSD&mid=sec&sid1=102&oid=437&aid=0000210919',\n",
    "    'https://news.naver.com/main/read.nhn?mode=LSD&mid=sec&sid1=101&oid=056&aid=0010704799',\n",
    "    'https://news.naver.com/main/read.nhn?mode=LSD&mid=sec&sid1=102&oid=421&aid=0004004042',\n",
    "    'https://news.naver.com/main/read.nhn?mode=LSD&mid=sec&sid1=110&oid=022&aid=0003360967',\n",
    "    'https://news.naver.com/main/read.nhn?mode=LSD&mid=sec&sid1=110&oid=028&aid=0002453009',\n",
    "    'https://entertain.naver.com/read?oid=001&aid=0010817875',\n",
    "    'https://news.naver.com/main/read.nhn?mode=LSD&mid=sec&sid1=102&oid=047&aid=0002226641',\n",
    "    'https://news.naver.com/main/read.nhn?mode=LSD&mid=sec&sid1=102&oid=022&aid=0003360136',\n",
    "    'https://news.naver.com/main/read.nhn?mode=LSD&mid=sec&sid1=004&oid=586&aid=0000006285',\n",
    "    'https://news.naver.com/main/read.nhn?mode=LSD&mid=sec&sid1=102&oid=001&aid=0010805203',\n",
    "    'https://news.naver.com/main/read.nhn?mode=LSD&mid=sec&sid1=102&oid=421&aid=0003969482',\n",
    "    'https://news.naver.com/main/read.nhn?mode=LSD&mid=sec&sid1=102&oid=421&aid=0003968533',\n",
    "    'https://news.naver.com/main/read.nhn?mode=LSD&mid=sec&sid1=102&oid=056&aid=0010696122',\n",
    "    'https://news.naver.com/main/read.nhn?mode=LSD&mid=sec&sid1=102&oid=056&aid=0010696190',\n",
    "    'https://news.naver.com/main/read.nhn?mode=LSD&mid=sec&sid1=102&oid=032&aid=0002937177',\n",
    "    'https://news.naver.com/main/read.nhn?mode=LSD&mid=sec&sid1=101&oid=009&aid=0004329462',\n",
    "    'https://news.naver.com/main/read.nhn?mode=LSD&mid=sec&sid1=123&oid=298&aid=0000274358',\n",
    "    'https://news.naver.com/main/read.nhn?mode=LSD&mid=sec&sid1=102&oid=079&aid=0003220893',\n",
    "    'https://news.naver.com/main/read.nhn?mode=LSD&mid=sec&sid1=102&oid=079&aid=0003217934',\n",
    "    'https://news.naver.com/main/read.nhn?mode=LSD&mid=sec&sid1=100&oid=003&aid=0009178623',\n",
    "    'https://news.naver.com/main/read.nhn?mode=LSD&mid=sec&sid1=110&oid=020&aid=0003212405',\n",
    "    'https://news.naver.com/main/read.nhn?mode=LSD&mid=sec&sid1=101&oid=018&aid=0004354742',\n",
    "    'https://news.naver.com/main/read.nhn?mode=LSD&mid=sec&sid1=102&oid=003&aid=0009179154',\n",
    "    'https://news.naver.com/main/read.nhn?mode=LSD&mid=sec&sid1=102&oid=003&aid=0009182414',\n",
    "    'https://news.naver.com/main/read.nhn?mode=LSD&mid=sec&sid1=110&oid=032&aid=0002934476',\n",
    "    'https://news.naver.com/main/read.nhn?mode=LSD&mid=sec&sid1=102&oid=421&aid=0003935632',\n",
    "    'https://news.naver.com/main/read.nhn?mode=LSD&mid=sec&sid1=102&oid=421&aid=0003942408',\n",
    "    'https://news.naver.com/main/read.nhn?mode=LSD&mid=sec&sid1=102&oid=018&aid=0004344023',\n",
    "    'https://news.naver.com/main/read.nhn?mode=LSD&mid=sec&sid1=101&oid=009&aid=0004332445',\n",
    "    'https://news.naver.com/main/read.nhn?mode=LSD&mid=sec&sid1=102&oid=310&aid=0000072520',\n",
    "    'https://news.naver.com/main/read.nhn?mode=LSD&mid=sec&sid1=102&oid=056&aid=0010686006',\n",
    "    'https://news.naver.com/main/read.nhn?mode=LSD&mid=sec&sid1=101&oid=055&aid=0000720481',\n",
    "    'https://news.naver.com/main/read.nhn?mode=LSD&mid=sec&sid1=102&oid=032&aid=0002928911',\n",
    "    'https://news.naver.com/main/read.nhn?mode=LSD&mid=sec&sid1=102&oid=214&aid=0000930501',\n",
    "    'https://news.naver.com/main/read.nhn?mode=LSD&mid=sec&sid1=102&oid=032&aid=0002929130',\n",
    "    'https://news.naver.com/main/read.nhn?mode=LSD&mid=sec&sid1=102&oid=214&aid=0000930572',\n",
    "    'https://news.naver.com/main/read.nhn?mode=LSD&mid=sec&sid1=101&oid=437&aid=0000204247',\n",
    "    'https://news.naver.com/main/read.nhn?mode=LSD&mid=sec&sid1=102&oid=032&aid=0002926969',\n",
    "    'https://news.naver.com/main/read.nhn?mode=LSD&mid=sec&sid1=104&oid=032&aid=0002931642',\n",
    "    'https://news.naver.com/main/read.nhn?mode=LSD&mid=sec&sid1=102&oid=422&aid=0000365975',\n",
    "    'https://news.naver.com/main/read.nhn?mode=LSD&mid=sec&sid1=110&oid=032&aid=0002928975',\n",
    "    'https://news.naver.com/main/read.nhn?mode=LSD&mid=sec&sid1=102&oid=032&aid=0002929018',\n",
    "    'https://news.naver.com/main/read.nhn?mode=LSD&mid=sec&sid1=102&oid=052&aid=0001266756',\n",
    "    'https://news.naver.com/main/read.nhn?mode=LSD&mid=sec&sid1=104&oid=032&aid=0002927122',\n",
    "    'https://news.naver.com/main/read.nhn?mode=LSD&mid=sec&sid1=110&oid=028&aid=0002445178',\n",
    "    'https://news.naver.com/main/read.nhn?mode=LSD&mid=sec&sid1=102&oid=028&aid=0002444397',\n",
    "    'https://news.naver.com/main/read.nhn?mode=LSD&mid=sec&sid1=101&oid=056&aid=0010674590',\n",
    "    'https://news.naver.com/main/read.nhn?mode=LSD&mid=sec&sid1=102&oid=056&aid=0010675032',\n",
    "    'https://news.naver.com/main/read.nhn?mode=LSD&mid=sec&sid1=102&oid=028&aid=0002443741',\n",
    "    'https://news.naver.com/main/read.nhn?mode=LSD&mid=sec&sid1=102&oid=214&aid=0000925100',\n",
    "    'https://news.naver.com/main/read.nhn?mode=LSD&mid=sec&sid1=102&oid=056&aid=0010672161',\n",
    "    'https://news.naver.com/main/read.nhn?mode=LSD&mid=sec&sid1=102&oid=214&aid=0000924956',\n",
    "    'https://news.naver.com/main/read.nhn?mode=LSD&mid=sec&sid1=102&oid=032&aid=0002922289',\n",
    "    'https://news.naver.com/main/read.nhn?mode=LSD&mid=sec&sid1=102&oid=055&aid=0000709924',\n",
    "    'https://news.naver.com/main/read.nhn?mode=LSD&mid=sec&sid1=102&oid=028&aid=0002442859',\n",
    "    'https://news.naver.com/main/read.nhn?mode=LSD&mid=sec&sid1=102&oid=056&aid=0010669604',\n",
    "    'https://news.naver.com/main/read.nhn?mode=LSD&mid=sec&sid1=102&oid=214&aid=0000922805',\n",
    "    'https://news.naver.com/main/read.nhn?mode=LSD&mid=sec&sid1=102&oid=025&aid=0002885712',\n",
    "    'https://news.naver.com/main/read.nhn?mode=LSD&mid=sec&sid1=102&oid=052&aid=0001253090',\n",
    "    'https://news.naver.com/main/read.nhn?mode=LSD&mid=sec&sid1=101&oid=032&aid=0002920898',\n",
    "    'https://news.naver.com/main/read.nhn?mode=LSD&mid=sec&sid1=102&oid=055&aid=0000707196',\n",
    "    'https://news.naver.com/main/read.nhn?mode=LSD&mid=sec&sid1=101&oid=056&aid=0010666232',\n",
    "    'https://news.naver.com/main/read.nhn?mode=LSD&mid=sec&sid1=103&oid=055&aid=0000707114',\n",
    "    'https://news.naver.com/main/read.nhn?mode=LSD&mid=sec&sid1=102&oid=025&aid=0002881623',\n",
    "    'https://news.naver.com/main/read.nhn?mode=LSD&mid=sec&sid1=102&oid=052&aid=0001246951',\n",
    "    'https://news.naver.com/main/read.nhn?mode=LSD&mid=sec&sid1=102&oid=437&aid=0000201339',\n",
    "    'https://news.naver.com/main/read.nhn?mode=LSD&mid=sec&sid1=101&oid=052&aid=0001241055',\n",
    "    'https://news.naver.com/main/read.nhn?mode=LSD&mid=sec&sid1=102&oid=032&aid=0002916159',\n",
    "    'https://news.naver.com/main/read.nhn?mode=LSD&mid=sec&sid1=102&oid=214&aid=0000905101',\n",
    "    'https://news.naver.com/main/read.nhn?mode=LSD&mid=sec&sid1=102&oid=032&aid=0002920376',\n",
    "    'https://news.naver.com/main/read.nhn?mode=LSD&mid=sec&sid1=102&oid=032&aid=0002917393',\n",
    "    'https://news.naver.com/main/read.nhn?mode=LSD&mid=sec&sid1=102&oid=032&aid=0002914875',\n",
    "    'https://news.naver.com/main/read.nhn?mode=LSD&mid=sec&sid1=102&oid=056&aid=0010656984',\n",
    "    'https://news.naver.com/main/read.nhn?mode=LSD&mid=sec&sid1=102&oid=056&aid=0010663864',\n",
    "    'https://news.naver.com/main/read.nhn?mode=LSD&mid=sec&sid1=102&oid=422&aid=0000357422',\n",
    "    'https://news.naver.com/main/read.nhn?mode=LSD&mid=sec&sid1=100&oid=023&aid=0003420404',\n",
    "    'https://news.naver.com/main/read.nhn?mode=LSD&mid=sec&sid1=102&oid=032&aid=0002916735',\n",
    "    'https://news.naver.com/main/read.nhn?mode=LSD&mid=sec&sid1=102&oid=032&aid=0002914934',\n",
    "    'https://news.naver.com/main/read.nhn?mode=LSD&mid=sec&sid1=102&oid=023&aid=0003424240'\n",
    "    \n",
    "          ]"
   ]
  },
  {
   "cell_type": "markdown",
   "metadata": {},
   "source": [
    "# 500개 이상 댓글 기사\n",
    "urls = [\n",
    "    'https://news.naver.com/main/read.nhn?mode=LSD&mid=sec&sid1=102&oid=032&aid=0002919581',\n",
    "    'https://news.naver.com/main/read.nhn?mode=LSD&mid=sec&sid1=102&oid=032&aid=0002919580',\n",
    "    'https://news.naver.com/main/read.nhn?mode=LSD&mid=sec&sid1=102&oid=032&aid=0002919373',\n",
    "    'https://news.naver.com/main/read.nhn?mode=LSD&mid=sec&sid1=102&oid=056&aid=0010658067',\n",
    "]"
   ]
  },
  {
   "cell_type": "code",
   "execution_count": 5,
   "metadata": {},
   "outputs": [],
   "source": [
    "urls=['https://news.naver.com/main/read.nhn?mode=LSD&mid=sec&sid1=102&oid=032&aid=0002919581']"
   ]
  },
  {
   "cell_type": "markdown",
   "metadata": {},
   "source": [
    "### 불용어 집합"
   ]
  },
  {
   "cell_type": "markdown",
   "metadata": {},
   "source": [
    "##  크롤링 + 명사 분석"
   ]
  },
  {
   "cell_type": "code",
   "execution_count": null,
   "metadata": {},
   "outputs": [],
   "source": [
    "for url in urls:\n",
    "    List=[] \n",
    "    oid=url.split(\"oid=\")[1].split(\"&\")[0] \n",
    "    aid=url.split(\"aid=\")[1] \n",
    "    page=1  \n",
    "    header = { \n",
    "        \"User-agent\":\"Mozilla/5.0 (Windows NT 10.0; Win64; x64) AppleWebKit/537.36 (KHTML, like Gecko) Chrome/65.0.3325.181 Safari/537.36\", \n",
    "        \"referer\":url, \n",
    "    }  \n",
    "    while True : \n",
    "        c_url=\"https://apis.naver.com/commentBox/cbox/web_neo_list_jsonp.json?ticket=news&templateId=default_society&pool=cbox5&_callback=jQuery1707138182064460843_1523512042464&lang=ko&country=&objectId=news\"+oid+\"%2C\"+aid+\"&categoryId=&pageSize=20&indexSize=10&groupId=&listType=OBJECT&pageType=more&page=\"+str(page)+\"&refresh=false&sort=FAVORITE\"  \n",
    "    # 파싱하는 단계입니다.\n",
    "        r=requests.get(c_url,headers=header) \n",
    "        cont=BeautifulSoup(r.content,\"html.parser\")     \n",
    "        total_comm=str(cont).split('comment\":')[1].split(\",\")[0] \n",
    "\n",
    "        match=re.findall('\"contents\":([^\\*]*),\"userIdNo\"', str(cont)) \n",
    "    # 댓글을 리스트에 중첩합니다.\n",
    "        List.append(match) \n",
    "    # 한번에 댓글이 20개씩 보이기 때문에 한 페이지씩 몽땅 댓글을 긁어 옵니다.\n",
    "        if int(total_comm) <= ((page) * 20): \n",
    "            break \n",
    "        else :  \n",
    "            page+=1\n",
    "    for i in List:\n",
    "        tokens += kkma.nouns(str(i))"
   ]
  },
  {
   "cell_type": "markdown",
   "metadata": {},
   "source": [
    "## 불용어 제거"
   ]
  },
  {
   "cell_type": "code",
   "execution_count": null,
   "metadata": {},
   "outputs": [],
   "source": [
    "for i in range(len(tokens)):\n",
    "    tokens[i] = re.sub(\".?[0-9]+.?\",\"\", str(tokens[i]))\n",
    "    if len(tokens[i]) == 1:\n",
    "        tokens[i] = \"\"\n",
    "        \n",
    "for i in tokens:\n",
    "    try:\n",
    "        tokens.remove(\"\")\n",
    "    except ValueError:\n",
    "        break\n",
    "    "
   ]
  },
  {
   "cell_type": "code",
   "execution_count": null,
   "metadata": {},
   "outputs": [],
   "source": [
    "result = [x for x in tokens if x not in stopwords]"
   ]
  },
  {
   "cell_type": "markdown",
   "metadata": {},
   "source": [
    "## 전처리한 단어 파일로 저장"
   ]
  },
  {
   "cell_type": "code",
   "execution_count": null,
   "metadata": {},
   "outputs": [],
   "source": [
    "with open(\"crolled_data.txt\", 'ab') as f:\n",
    "    pickle.dump(result, f)"
   ]
  },
  {
   "cell_type": "markdown",
   "metadata": {},
   "source": [
    "# ========= 저장된 단어로 시작 ======="
   ]
  },
  {
   "cell_type": "code",
   "execution_count": null,
   "metadata": {},
   "outputs": [],
   "source": [
    "with open(\"crolled_data.txt\", 'rb') as f:\n",
    "    tokens = pickle.load(f)"
   ]
  },
  {
   "cell_type": "markdown",
   "metadata": {},
   "source": [
    "## 워드클라우드 제작"
   ]
  },
  {
   "cell_type": "code",
   "execution_count": null,
   "metadata": {},
   "outputs": [],
   "source": [
    "wordcloud = WordCloud(\n",
    "    width = 1000,\n",
    "    height = 1000,\n",
    "    stopwords = stopwords,\n",
    "    font_path='C:/Windows/Fonts/malgun.ttf',\n",
    "    max_words = 300,\n",
    "    background_color='white'\n",
    ").generate(' '.join(tokens))"
   ]
  },
  {
   "cell_type": "code",
   "execution_count": null,
   "metadata": {},
   "outputs": [],
   "source": [
    "fig = plt.figure(figsize=(10, 10))\n",
    "plt.imshow(wordcloud, interpolation='bilinear')\n",
    "plt.axis(\"off\")\n",
    "plt.show()"
   ]
  },
  {
   "cell_type": "code",
   "execution_count": null,
   "metadata": {
    "scrolled": true
   },
   "outputs": [],
   "source": [
    "print(pd.Series(tokens).value_counts())"
   ]
  },
  {
   "cell_type": "code",
   "execution_count": null,
   "metadata": {},
   "outputs": [],
   "source": []
  }
 ],
 "metadata": {
  "kernelspec": {
   "display_name": "Python 3",
   "language": "python",
   "name": "python3"
  },
  "language_info": {
   "codemirror_mode": {
    "name": "ipython",
    "version": 3
   },
   "file_extension": ".py",
   "mimetype": "text/x-python",
   "name": "python",
   "nbconvert_exporter": "python",
   "pygments_lexer": "ipython3",
   "version": "3.7.3"
  }
 },
 "nbformat": 4,
 "nbformat_minor": 2
}

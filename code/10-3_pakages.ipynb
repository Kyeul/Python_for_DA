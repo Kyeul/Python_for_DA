{
 "cells": [
  {
   "cell_type": "code",
   "execution_count": 2,
   "metadata": {},
   "outputs": [
    {
     "name": "stdout",
     "output_type": "stream",
     "text": [
      "폴더 PATH의 목록입니다.\n",
      "볼륨 일련 번호는 D6B9-C25B입니다.\n",
      "C:\\MYPYCODE\n",
      "│  myFile.txt\n",
      "│  myTextFile.txt\n",
      "│  myTextFile2.txt\n",
      "│  \n",
      "├─code\n",
      "│  │  10-2_call_Module.ipynb\n",
      "│  │  10-2_use_inner_module.ipynb\n",
      "│  │  10-3_pakages.ipynb\n",
      "│  │  9-2_readText_and_DataHandling.ipynb\n",
      "│  │  File_read&write.py\n",
      "│  │  myFile.txt\n",
      "│  │  Python_Function.ipynb\n",
      "│  │  two_times_table.txt\n",
      "│  │  Untitled.ipynb\n",
      "│  │  \n",
      "│  └─.ipynb_checkpoints\n",
      "│          10-2_call_Module-checkpoint.ipynb\n",
      "│          10-2_use_inner_module-checkpoint.ipynb\n",
      "│          10-3_pakages-checkpoint.ipynb\n",
      "│          9-2_readText_and_DataHandling-checkpoint.ipynb\n",
      "│          Python_Function-checkpoint.ipynb\n",
      "│          Untitled-checkpoint.ipynb\n",
      "│          \n",
      "├─data\n",
      "│      coffeeShopSales.txt\n",
      "│      littleprince_djvu.txt\n",
      "│      missing_data_test.csv\n",
      "│      sea_rain1_from_notepad.csv\n",
      "│      total_sales_data.csv\n",
      "│      word_count.csv\n",
      "│      담당자별_판매량_Andy사원.xlsx\n",
      "│      담당자별_판매량_Becky사원.xlsx\n",
      "│      담당자별_판매량_Chris사원.xlsx\n",
      "│      학생시험성적.xlsx\n",
      "│      \n",
      "├─figures\n",
      "├─modules\n",
      "│  │  10-2_mk_module.ipynb\n",
      "│  │  my_area.py\n",
      "│  │  \n",
      "│  ├─.ipynb_checkpoints\n",
      "│  │      10-2_mk_module-checkpoint.ipynb\n",
      "│  │      \n",
      "│  └─__pycache__\n",
      "│          my_area.cpython-37.pyc\n",
      "│          \n",
      "├─notebook\n",
      "│  │  Chapter_03_Calculator.ipynb\n",
      "│  │  Chapter_04_Variable_DataType.ipynb\n",
      "│  │  Chapter_05_if_for_while.ipynb\n",
      "│  │  Chapter_06_Input_Output.ipynb\n",
      "│  │  Chapter_07_Function.ipynb\n",
      "│  │  Chapter_08_Class_Object.ipynb\n",
      "│  │  Chapter_09_String_Text_File_Processing.ipynb\n",
      "│  │  Chapter_10_Module.ipynb\n",
      "│  │  Chapter_11_NumPy_pandas.ipynb\n",
      "│  │  Chapter_12_matplotlib.ipynb\n",
      "│  │  Chapter_13_Working_with_excel.ipynb\n",
      "│  │  Chapter_14_Web_Scraping.ipynb\n",
      "│  │  Chapter_15_Web_API.ipynb\n",
      "│  │  Chapter_16_Data_analysis.ipynb\n",
      "│  │  \n",
      "│  └─.ipynb_checkpoints\n",
      "│          Chapter_08_Class_Object-checkpoint.ipynb\n",
      "│          Chapter_11_NumPy_pandas-checkpoint.ipynb\n",
      "│          \n",
      "└─packages\n"
     ]
    }
   ],
   "source": [
    "!tree C:\\myPyCode /F"
   ]
  },
  {
   "cell_type": "code",
   "execution_count": null,
   "metadata": {},
   "outputs": [],
   "source": []
  }
 ],
 "metadata": {
  "kernelspec": {
   "display_name": "Python 3",
   "language": "python",
   "name": "python3"
  },
  "language_info": {
   "codemirror_mode": {
    "name": "ipython",
    "version": 3
   },
   "file_extension": ".py",
   "mimetype": "text/x-python",
   "name": "python",
   "nbconvert_exporter": "python",
   "pygments_lexer": "ipython3",
   "version": "3.7.3"
  }
 },
 "nbformat": 4,
 "nbformat_minor": 2
}

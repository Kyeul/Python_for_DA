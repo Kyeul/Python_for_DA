{
 "cells": [
  {
   "cell_type": "code",
   "execution_count": 3,
   "metadata": {},
   "outputs": [
    {
     "name": "stdout",
     "output_type": "stream",
     "text": [
      "날짜    에스프레소  아메리카노  카페라테  카푸치노\n",
      "10.15       10  \t50         45       20   \n",
      "10.16       12\t\t45         41       18\n",
      "10.17       11\t\t53         32       25\n",
      "10.18       15\t\t49         38       22\n"
     ]
    }
   ],
   "source": [
    "!type C:\\myPyCode\\data\\coffeeShopSales.txt"
   ]
  },
  {
   "cell_type": "code",
   "execution_count": 4,
   "metadata": {},
   "outputs": [],
   "source": [
    "file_name = 'C:\\myPyCode\\data\\coffeeShopSales.txt'"
   ]
  },
  {
   "cell_type": "code",
   "execution_count": 11,
   "metadata": {},
   "outputs": [
    {
     "name": "stdout",
     "output_type": "stream",
     "text": [
      "날짜    에스프레소  아메리카노  카페라테  카푸치노\n",
      "10.15       10  \t50         45       20   \n",
      "10.16       12\t\t45         41       18\n",
      "10.17       11\t\t53         32       25\n",
      "10.18       15\t\t49         38       22"
     ]
    }
   ],
   "source": [
    "with open(file_name) as f:\n",
    "    \n",
    "    for line in f:\n",
    "        print(line, end=\"\")\n",
    "    \n",
    "    \n"
   ]
  },
  {
   "cell_type": "code",
   "execution_count": 26,
   "metadata": {},
   "outputs": [
    {
     "name": "stdout",
     "output_type": "stream",
     "text": [
      "에스프레소: [10, 12, 11, 15]\n",
      "아메리카노: [50, 45, 53, 49]\n",
      "카페라테: [45, 41, 32, 38]\n",
      "카푸치노: [20, 18, 25, 22]\n"
     ]
    }
   ],
   "source": [
    "with open(file_name) as f:\n",
    "    header = f.readline()\n",
    "    header_list = header.split()\n",
    "    \n",
    "    espresso = []\n",
    "    americano = []\n",
    "    cafelatte = []\n",
    "    cappucino = []\n",
    "    \n",
    "    for i in f:\n",
    "        data_list = i.split()\n",
    "        \n",
    "        # 커피 종류별로 정수로 변환 후, 리스트의 항목으로 추가\n",
    "        espresso.append(int(data_list[1]))\n",
    "        americano.append(int(data_list[2]))\n",
    "        cafelatte.append(int(data_list[3]))\n",
    "        cappucino.append(int(data_list[4]))\n",
    "        \n",
    "    \n",
    "print(\"{}: {}\" .format(header_list[1], espresso))\n",
    "print(\"{}: {}\" .format(header_list[2], americano))\n",
    "print(\"{}: {}\" .format(header_list[3], cafelatte))\n",
    "print(\"{}: {}\" .format(header_list[4], cappucino))                         \n"
   ]
  },
  {
   "cell_type": "code",
   "execution_count": 27,
   "metadata": {},
   "outputs": [],
   "source": [
    "total_sum = [sum(espresso), sum(americano), sum(cafelatte), sum(cappucino)]\n",
    "total_mean = [sum(espresso)/len(espresso), sum(americano)/len(americano), sum(cafelatte)/len(cafelatte), sum(cappucino)/len(cappucino)]"
   ]
  },
  {
   "cell_type": "code",
   "execution_count": 28,
   "metadata": {},
   "outputs": [
    {
     "name": "stdout",
     "output_type": "stream",
     "text": [
      "[에스프레소] 판매랑\n",
      "- 전체: 48, 하루 평균: 12.0\n",
      "[아메리카노] 판매랑\n",
      "- 전체: 197, 하루 평균: 49.25\n",
      "[카페라테] 판매랑\n",
      "- 전체: 156, 하루 평균: 39.0\n",
      "[카푸치노] 판매랑\n",
      "- 전체: 85, 하루 평균: 21.25\n"
     ]
    }
   ],
   "source": [
    "for j in range(len(total_sum)):\n",
    "    print('[{}] 판매량' .format(header_list[j+1]) )\n",
    "    print('- 전체: {}, 하루 평균: {}' .format(total_sum[j], total_mean[j]))"
   ]
  }
 ],
 "metadata": {
  "kernelspec": {
   "display_name": "Python 3",
   "language": "python",
   "name": "python3"
  },
  "language_info": {
   "codemirror_mode": {
    "name": "ipython",
    "version": 3
   },
   "file_extension": ".py",
   "mimetype": "text/x-python",
   "name": "python",
   "nbconvert_exporter": "python",
   "pygments_lexer": "ipython3",
   "version": "3.7.3"
  }
 },
 "nbformat": 4,
 "nbformat_minor": 2
}

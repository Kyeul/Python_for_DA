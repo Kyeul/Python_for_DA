{
 "cells": [
  {
   "cell_type": "code",
   "execution_count": 20,
   "metadata": {},
   "outputs": [
    {
     "name": "stdout",
     "output_type": "stream",
     "text": [
      "Overwriting C:\\myPyCode\\modules\\my_area.py\n"
     ]
    }
   ],
   "source": [
    "%%writefile C:\\myPyCode\\modules\\my_area.py\n",
    "#File name : my_area.py\n",
    "\n",
    "PI = 3.14\n",
    "\n",
    "def quadrangle_area(height, width):\n",
    "        return height * width\n",
    "    \n",
    "def circle_area(r):\n",
    "    return (r**2)*PI\n",
    "\n",
    "if __name__ == '__main__':\n",
    "    print('모듈 테스트 코드일 때만 실행')\n",
    "    print('사각형: ', quadrangle_area(2,3))\n",
    "    print('원: ', circle_area(3))\n",
    "\n",
    "else:\n",
    "    print(\"모듈이 정상적으로 임포트되었습니다.\")"
   ]
  },
  {
   "cell_type": "code",
   "execution_count": 17,
   "metadata": {},
   "outputs": [
    {
     "name": "stderr",
     "output_type": "stream",
     "text": [
      "UsageError: unrecognized arguments: C:\\myPyCode\\modules\\my_area.py\n"
     ]
    }
   ],
   "source": [
    "%%writefile [-a] C:\\myPyCode\\modules\\my_area.py\n",
    "\n"
   ]
  },
  {
   "cell_type": "code",
   "execution_count": 19,
   "metadata": {},
   "outputs": [
    {
     "name": "stdout",
     "output_type": "stream",
     "text": [
      "모듈 테스트 코드일 때만 실행\n",
      "사각형:  6\n",
      "원:  28.26\n"
     ]
    }
   ],
   "source": [
    "%run C:\\myPyCode\\modules\\my_area.py"
   ]
  },
  {
   "cell_type": "code",
   "execution_count": null,
   "metadata": {},
   "outputs": [],
   "source": []
  }
 ],
 "metadata": {
  "kernelspec": {
   "display_name": "Python 3",
   "language": "python",
   "name": "python3"
  },
  "language_info": {
   "codemirror_mode": {
    "name": "ipython",
    "version": 3
   },
   "file_extension": ".py",
   "mimetype": "text/x-python",
   "name": "python",
   "nbconvert_exporter": "python",
   "pygments_lexer": "ipython3",
   "version": "3.7.3"
  }
 },
 "nbformat": 4,
 "nbformat_minor": 2
}

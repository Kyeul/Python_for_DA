{
 "cells": [
  {
   "cell_type": "markdown",
   "metadata": {},
   "source": [
    "<h1 style=\"text-align:center;\"> &lt;Jupter로 코딩하기&gt;</h1>"
   ]
  },
  {
   "cell_type": "markdown",
   "metadata": {},
   "source": [
    "<hr>\n",
    "<h2 style=\"text-align: center;\">2. Lab vs Notebook</h2><br>\n",
    "<h3>2-1. 비교</h3>\n",
    "<ul>\n",
    "    <li><h3>화면 분할</h3></li>\n",
    "    <p>직접 보여주기</p>\n",
    "    <li><h3>좀 더 보기 좋은 Tab+Shift</h3></li>\n",
    "    <h4 style=\"text-align:center; color: navy;\">Notebook ver</h4>\n",
    "    <img src=\"https://postfiles.pstatic.net/MjAxOTA3MThfMjQx/MDAxNTYzNDM1Mjc0NjIz.1cwUTR_Sx4UyBXLbmV3CedZo9zxFFRynf1iA2BcVQ6Ag.Y1N69sogXJpMmZ19v1jVr956yueus4s6Ht7piAvZCPYg.JPEG.gyul611/TabShift1.JPG?type=w773\"><br><br>\n",
    "    <h4 style=\"text-align:center; color: navy;\">Lab ver</h4>\n",
    "    <img src=\"https://postfiles.pstatic.net/MjAxOTA3MThfMjQz/MDAxNTYzNDM1Mjc0NjQw.vFo7jKMZcsQ3wP-w93HdL9xbFungzDifU1MBCBqE8kIg.3CdCODuziDA3o4P2cKhHZvlEwpOCEu_i_bFziwpX9rsg.JPEG.gyul611/TabShift2.JPG?type=w773\">\n",
    "    <li><h3>기본적으로 테마 변경 제공</h3></li>\n",
    "    <h4>Menu bar -> Settings -> Jupyter Lab theme</h4>\n",
    "</ul>"
   ]
  },
  {
   "cell_type": "markdown",
   "metadata": {},
   "source": [
    "<h3>2-2. Lab 설치하기\n",
    "<ul>\n",
    "    <li>Anaconda Navigator 사용\n",
    "    "
   ]
  },
  {
   "cell_type": "markdown",
   "metadata": {},
   "source": [
    "\n",
    "<h2 style=\"text-align:center;\">3. R in Jupyter!\n",
    "<hr>\n",
    "\n",
    "<pre style=\"text-align: center; font-size: 1.3rem;\">\n",
    "    $conda install -c r r-essentials\n",
    "</pre>\n",
    "  \n",
    "  \n",
    "<img src=\"https://postfiles.pstatic.net/MjAxOTA3MThfMjkz/MDAxNTYzNDI4NzA1Mjc1.GxLv5I3Nae4cI_UpbZDOnynfImF0N6sE6oxzKza83MUg.OC4Z7BrrvWYXpbsqwTF7D99Zo-X867WWvxbiMN77Heog.JPEG.gyul611/SE-65bac0cb-64a8-486c-9150-40d6f320edd7.jpg?type=w773\">\n",
    "<br>\n",
    "<h4> 설치될 패키지들이 보여진다.</h4>\n",
    "  \n",
    "<img src=\"https://postfiles.pstatic.net/MjAxOTA3MThfMjkx/MDAxNTYzNDI4NzAyOTI4.TTuIrIOyXYEfYyTRiKeKt9tmlMgIW-WVAbbV7VZWtjAg.5E0IF0qiRwFmO1hIaE9fzBDfG89OgrbB3nGcb9ftbYMg.JPEG.gyul611/SE-db62bab0-015c-49fe-bd16-30143884c8dc.jpg?type=w773\">\n",
    "\n",
    "<h4><p>Proceed([y/n])?에서 y입력하면 설치가 진행된다.</p></h4>\n",
    "<img src=\"https://postfiles.pstatic.net/MjAxOTA3MThfMjIg/MDAxNTYzNDI4NzMyMDcw.IyLzCFy4PW05UU41e04BSa9kssXf3blx-kKG3YaL85gg.4Qg6nt1sAxZn58alwqvFuiyd2voN1HmLLb1Aid31x6Qg.JPEG.gyul611/SE-b9c0a087-506a-4909-b9b5-6b06751cffaa.jpg?type=w773\">\n",
    "\n",
    "<h4>Jupyter에서 R Notebook이 생긴 것을 확인 할 수 있다!</h4>"
   ]
  },
  {
   "cell_type": "code",
   "execution_count": null,
   "metadata": {},
   "outputs": [],
   "source": []
  }
 ],
 "metadata": {
  "kernelspec": {
   "display_name": "Python 3",
   "language": "python",
   "name": "python3"
  },
  "language_info": {
   "codemirror_mode": {
    "name": "ipython",
    "version": 3
   },
   "file_extension": ".py",
   "mimetype": "text/x-python",
   "name": "python",
   "nbconvert_exporter": "python",
   "pygments_lexer": "ipython3",
   "version": "3.7.3"
  }
 },
 "nbformat": 4,
 "nbformat_minor": 2
}

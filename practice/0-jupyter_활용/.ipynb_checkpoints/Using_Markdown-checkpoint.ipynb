{
 "cells": [
  {
   "cell_type": "markdown",
   "metadata": {},
   "source": [
    "# &lt;__Jupyter__에서 __MarkDown__ 작성하기 &gt;  \n",
    "  \n",
    "<p style=\"text-align: right; margin-right:10rem;\"><strong>작성자 : 박 결</strong></p>\n",
    "  \n",
    "+ #### __마크다운은 Ipython의 장점 중 하나이다.__\n",
    "+ #### __코드에 대한 설명을 적음으로써 이해도가 높아진다.__\n",
    "+ #### __마크다운이 잘 작성된 결과물은 배포용으로 손색이 없다.__\n",
    "  \n",
    "    \n",
    "---"
   ]
  },
  {
   "cell_type": "markdown",
   "metadata": {},
   "source": [
    "## __1. 문서 골격 잡기__  \n",
    "  \n",
    "### __1 - 1. Header__  \n",
    "__`#`(샾) 기호__와 __개수__를 통해 간단히 사용가능 (1~6까지 지원)\n",
    "<pre style=\"background: rgb(230, 230, 230); padding: 0.5rem;\">\n",
    "    # header1\n",
    "    ## header2\n",
    "    ### header3\n",
    "    #### header4\n",
    "    ##### header5\n",
    "    ###### header6\n",
    "</pre>\n",
    "# header1\n",
    "## header2\n",
    "### header3\n",
    "#### header4\n",
    "##### header5\n",
    "###### header6\n",
    "\n",
    "### __1 - 2. List__\n",
    "__`+` 기호__와 __들여쓰기__를 통해 간단히 사용가능  \n",
    "\n",
    "\n",
    "<pre style=\"background: rgb(230, 230, 230); padding: 0.5rem;\">+ 목록1</pre>\n",
    " \n",
    "+ 목록1  \n",
    "\n",
    "<pre style=\"background: rgb(230, 230, 230); padding: 0.5rem;\">\n",
    "+ 목록1\n",
    "    + 목록1-1</pre>\n",
    "+ 목록1\n",
    "    + 목록1-1\n",
    "    \n",
    "<pre style=\"background: rgb(230, 230, 230); padding: 0.5rem;\">\n",
    "+ 목록1\n",
    "    + 목록1-1\n",
    "        + 목록1-1-1\n",
    "        + 목록1-1-2\n",
    "    + 목록1-2\n",
    "        + 목록1-2-1</pre>  \n",
    "+ 목록1\n",
    "    + 목록1-1\n",
    "        + 목록1-1-1\n",
    "        + 목록1-1-2\n",
    "    + 목록1-2\n",
    "        + 목록1-2-1\n",
    "\n",
    "### __1 - 3. 구분선 쓰기__\n",
    "\n",
    "__`---`__를 입력하면 구분선이 추가된다.\n"
   ]
  },
  {
   "cell_type": "markdown",
   "metadata": {},
   "source": [
    "<실습>\n",
    "\n",
    "---"
   ]
  },
  {
   "cell_type": "markdown",
   "metadata": {},
   "source": [
    "---\n",
    "## __2. 내용 쓰기__\n",
    "\n",
    "### __2 - 1. New Line__\n",
    "    한 줄 개행은 Enter로 되지 않는다. __2번의 space bar__를 쓰면 줄바꿈이 가능하다. "
   ]
  },
  {
   "cell_type": "markdown",
   "metadata": {},
   "source": [
    "<실습>  \n",
    "안녕하세요.\n",
    "박결입니다.\n",
    "\n",
    "안녕하세요.  \n",
    "박결입니다."
   ]
  },
  {
   "cell_type": "markdown",
   "metadata": {},
   "source": [
    "### __2-2. 강조하기__\n",
    "+ ### 2-2-1. Bold\n",
    "강조할 내용을 `_`(언더스코어) 두개로 감싼다.  \n",
    "`__ 강조 내용__` "
   ]
  },
  {
   "cell_type": "markdown",
   "metadata": {},
   "source": [
    "<실습>\n",
    "안녕하세요. __박결__입니다."
   ]
  },
  {
   "cell_type": "markdown",
   "metadata": {},
   "source": [
    "+ ### 2-2-2. 인용구쓰기\n",
    "문장 앞에 `>`를 쓰면 인용구처럼 쓸 수 있다."
   ]
  },
  {
   "cell_type": "markdown",
   "metadata": {},
   "source": [
    "<실습>\n",
    "> Hello World!"
   ]
  },
  {
   "cell_type": "markdown",
   "metadata": {},
   "source": [
    "    여러개의 >를 사용할 수 있고, 다른 기능과 섞어서 사용할 수도 있다.\n",
    "    ※ 인용구에 트리 리스트를 사용할 때는 Tab 대신 space를 쓴다."
   ]
  },
  {
   "cell_type": "markdown",
   "metadata": {},
   "source": [
    "<실습>\n",
    ">Hi\n",
    ">> __Bye__\n",
    ">>> #123\n",
    ">>> + one\n",
    " + two\n",
    "   + three"
   ]
  },
  {
   "cell_type": "markdown",
   "metadata": {},
   "source": [
    "### __2 - 3. Code 쓰기__\n",
    "    마크다운에서 특수문자들은 특별한 기능을 제공하기 때문에 코드에 사용되는 특수문자들이 왜곡 표시될 수 있다.  \n",
    " __예시__  \n",
    ">작성코드 -> `__init__(self, x):`  \n",
    ">  \n",
    ">결과 -> __init__(self, x):  \n",
    "  \n",
    "+ ### 2-3-1. inline으로 쓰기\n",
    "<pre style=\"background: rgb(230, 230, 230); padding: 0.5rem; display:inline-block;\">` [code] `</pre>를 통해 사용가능 (키보드 ~ 표시에 있는 점)<br>\n",
    "\n"
   ]
  },
  {
   "cell_type": "markdown",
   "metadata": {},
   "source": [
    "<실습>\n",
    "__init__(): 메서드는 초기화할 때 사용된다.  \n",
    "` __init__():` 메서드는 초기화할 때 사용된다."
   ]
  },
  {
   "cell_type": "markdown",
   "metadata": {},
   "source": [
    "+ ### 2-3-2. block으로 쓰기 \n",
    "<pre style=\"background: rgb(230, 230, 230); padding: 0.5rem; display:inline-block;\">``` [code] ```</pre> 세 개의 점을 통해 사용가능"
   ]
  },
  {
   "cell_type": "markdown",
   "metadata": {},
   "source": [
    "<실습>\n",
    "```\n",
    "def __init__(self, x):\n",
    "    self.x = x\n",
    "```"
   ]
  },
  {
   "cell_type": "markdown",
   "metadata": {},
   "source": [
    "  \n",
    "### __2-4. Link 걸기__\n",
    "기본적으로 url만 써도 링크가 활성화된다.  \n",
    "www.naver.com  \n",
    "  \n",
    "만약 주소의 이름을 명시하고 싶다면 다음 형식을 쓰면된다.  \n",
    "  \n",
    "  `[사용할 이름](url)`  \n",
    "\n"
   ]
  },
  {
   "cell_type": "markdown",
   "metadata": {},
   "source": [
    "<실습>\n",
    "[네이버](https://www.naver.com/)"
   ]
  },
  {
   "cell_type": "markdown",
   "metadata": {},
   "source": [
    "### __2-5. 이미지 올리기__\n",
    "링크를 걸었던 형식 앞에 !만 붙이면 된다.  \n",
    "`![이미지 이름](이미지 주소)`  \n"
   ]
  },
  {
   "cell_type": "markdown",
   "metadata": {},
   "source": [
    "<실습>\n",
    "![주피터](https://upload.wikimedia.org/wikipedia/commons/thumb/3/38/Jupyter_logo.svg/250px-Jupyter_logo.svg.png)"
   ]
  },
  {
   "cell_type": "markdown",
   "metadata": {},
   "source": [
    "---\n",
    "## __3. 수식 쓰기__\n",
    "\n",
    "수식을 입려할 때는 `$`표시를 사용한다.  \n",
    "※ __1개__를 사용하면 `inline` , __2개__를 사용하면 `block+가운데` 정렬이 된다.\n",
    "\n",
    "[참조](https://math.meta.stackexchange.com/questions/5020/mathjax-basic-tutorial-and-quick-reference) "
   ]
  },
  {
   "cell_type": "markdown",
   "metadata": {},
   "source": [
    "<실습>\n",
    "$f(x) = x^2$"
   ]
  },
  {
   "cell_type": "markdown",
   "metadata": {},
   "source": [
    "$$f(x) = x^2$$"
   ]
  },
  {
   "cell_type": "markdown",
   "metadata": {},
   "source": [
    "$$\\sum_{i=0}^n i^2 = \\frac{(n^2+n)(2n+1)}{6}$$"
   ]
  }
 ],
 "metadata": {
  "kernelspec": {
   "display_name": "Python 3",
   "language": "python",
   "name": "python3"
  },
  "language_info": {
   "codemirror_mode": {
    "name": "ipython",
    "version": 3
   },
   "file_extension": ".py",
   "mimetype": "text/x-python",
   "name": "python",
   "nbconvert_exporter": "python",
   "pygments_lexer": "ipython3",
   "version": "3.7.3"
  }
 },
 "nbformat": 4,
 "nbformat_minor": 4
}

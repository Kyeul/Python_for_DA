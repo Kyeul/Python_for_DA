{
 "cells": [
  {
   "cell_type": "code",
   "execution_count": 1,
   "metadata": {},
   "outputs": [
    {
     "data": {
      "text/html": [
       "<table>\n",
       "<thead><tr><th scope=col>speed</th><th scope=col>dist</th></tr></thead>\n",
       "<tbody>\n",
       "\t<tr><td> 4 </td><td>  2</td></tr>\n",
       "\t<tr><td> 4 </td><td> 10</td></tr>\n",
       "\t<tr><td> 7 </td><td>  4</td></tr>\n",
       "\t<tr><td> 7 </td><td> 22</td></tr>\n",
       "\t<tr><td> 8 </td><td> 16</td></tr>\n",
       "\t<tr><td> 9 </td><td> 10</td></tr>\n",
       "\t<tr><td>10 </td><td> 18</td></tr>\n",
       "\t<tr><td>10 </td><td> 26</td></tr>\n",
       "\t<tr><td>10 </td><td> 34</td></tr>\n",
       "\t<tr><td>11 </td><td> 17</td></tr>\n",
       "\t<tr><td>11 </td><td> 28</td></tr>\n",
       "\t<tr><td>12 </td><td> 14</td></tr>\n",
       "\t<tr><td>12 </td><td> 20</td></tr>\n",
       "\t<tr><td>12 </td><td> 24</td></tr>\n",
       "\t<tr><td>12 </td><td> 28</td></tr>\n",
       "\t<tr><td>13 </td><td> 26</td></tr>\n",
       "\t<tr><td>13 </td><td> 34</td></tr>\n",
       "\t<tr><td>13 </td><td> 34</td></tr>\n",
       "\t<tr><td>13 </td><td> 46</td></tr>\n",
       "\t<tr><td>14 </td><td> 26</td></tr>\n",
       "\t<tr><td>14 </td><td> 36</td></tr>\n",
       "\t<tr><td>14 </td><td> 60</td></tr>\n",
       "\t<tr><td>14 </td><td> 80</td></tr>\n",
       "\t<tr><td>15 </td><td> 20</td></tr>\n",
       "\t<tr><td>15 </td><td> 26</td></tr>\n",
       "\t<tr><td>15 </td><td> 54</td></tr>\n",
       "\t<tr><td>16 </td><td> 32</td></tr>\n",
       "\t<tr><td>16 </td><td> 40</td></tr>\n",
       "\t<tr><td>17 </td><td> 32</td></tr>\n",
       "\t<tr><td>17 </td><td> 40</td></tr>\n",
       "\t<tr><td>17 </td><td> 50</td></tr>\n",
       "\t<tr><td>18 </td><td> 42</td></tr>\n",
       "\t<tr><td>18 </td><td> 56</td></tr>\n",
       "\t<tr><td>18 </td><td> 76</td></tr>\n",
       "\t<tr><td>18 </td><td> 84</td></tr>\n",
       "\t<tr><td>19 </td><td> 36</td></tr>\n",
       "\t<tr><td>19 </td><td> 46</td></tr>\n",
       "\t<tr><td>19 </td><td> 68</td></tr>\n",
       "\t<tr><td>20 </td><td> 32</td></tr>\n",
       "\t<tr><td>20 </td><td> 48</td></tr>\n",
       "\t<tr><td>20 </td><td> 52</td></tr>\n",
       "\t<tr><td>20 </td><td> 56</td></tr>\n",
       "\t<tr><td>20 </td><td> 64</td></tr>\n",
       "\t<tr><td>22 </td><td> 66</td></tr>\n",
       "\t<tr><td>23 </td><td> 54</td></tr>\n",
       "\t<tr><td>24 </td><td> 70</td></tr>\n",
       "\t<tr><td>24 </td><td> 92</td></tr>\n",
       "\t<tr><td>24 </td><td> 93</td></tr>\n",
       "\t<tr><td>24 </td><td>120</td></tr>\n",
       "\t<tr><td>25 </td><td> 85</td></tr>\n",
       "</tbody>\n",
       "</table>\n"
      ],
      "text/latex": [
       "\\begin{tabular}{r|ll}\n",
       " speed & dist\\\\\n",
       "\\hline\n",
       "\t  4  &   2\\\\\n",
       "\t  4  &  10\\\\\n",
       "\t  7  &   4\\\\\n",
       "\t  7  &  22\\\\\n",
       "\t  8  &  16\\\\\n",
       "\t  9  &  10\\\\\n",
       "\t 10  &  18\\\\\n",
       "\t 10  &  26\\\\\n",
       "\t 10  &  34\\\\\n",
       "\t 11  &  17\\\\\n",
       "\t 11  &  28\\\\\n",
       "\t 12  &  14\\\\\n",
       "\t 12  &  20\\\\\n",
       "\t 12  &  24\\\\\n",
       "\t 12  &  28\\\\\n",
       "\t 13  &  26\\\\\n",
       "\t 13  &  34\\\\\n",
       "\t 13  &  34\\\\\n",
       "\t 13  &  46\\\\\n",
       "\t 14  &  26\\\\\n",
       "\t 14  &  36\\\\\n",
       "\t 14  &  60\\\\\n",
       "\t 14  &  80\\\\\n",
       "\t 15  &  20\\\\\n",
       "\t 15  &  26\\\\\n",
       "\t 15  &  54\\\\\n",
       "\t 16  &  32\\\\\n",
       "\t 16  &  40\\\\\n",
       "\t 17  &  32\\\\\n",
       "\t 17  &  40\\\\\n",
       "\t 17  &  50\\\\\n",
       "\t 18  &  42\\\\\n",
       "\t 18  &  56\\\\\n",
       "\t 18  &  76\\\\\n",
       "\t 18  &  84\\\\\n",
       "\t 19  &  36\\\\\n",
       "\t 19  &  46\\\\\n",
       "\t 19  &  68\\\\\n",
       "\t 20  &  32\\\\\n",
       "\t 20  &  48\\\\\n",
       "\t 20  &  52\\\\\n",
       "\t 20  &  56\\\\\n",
       "\t 20  &  64\\\\\n",
       "\t 22  &  66\\\\\n",
       "\t 23  &  54\\\\\n",
       "\t 24  &  70\\\\\n",
       "\t 24  &  92\\\\\n",
       "\t 24  &  93\\\\\n",
       "\t 24  & 120\\\\\n",
       "\t 25  &  85\\\\\n",
       "\\end{tabular}\n"
      ],
      "text/markdown": [
       "\n",
       "| speed | dist |\n",
       "|---|---|\n",
       "|  4  |   2 |\n",
       "|  4  |  10 |\n",
       "|  7  |   4 |\n",
       "|  7  |  22 |\n",
       "|  8  |  16 |\n",
       "|  9  |  10 |\n",
       "| 10  |  18 |\n",
       "| 10  |  26 |\n",
       "| 10  |  34 |\n",
       "| 11  |  17 |\n",
       "| 11  |  28 |\n",
       "| 12  |  14 |\n",
       "| 12  |  20 |\n",
       "| 12  |  24 |\n",
       "| 12  |  28 |\n",
       "| 13  |  26 |\n",
       "| 13  |  34 |\n",
       "| 13  |  34 |\n",
       "| 13  |  46 |\n",
       "| 14  |  26 |\n",
       "| 14  |  36 |\n",
       "| 14  |  60 |\n",
       "| 14  |  80 |\n",
       "| 15  |  20 |\n",
       "| 15  |  26 |\n",
       "| 15  |  54 |\n",
       "| 16  |  32 |\n",
       "| 16  |  40 |\n",
       "| 17  |  32 |\n",
       "| 17  |  40 |\n",
       "| 17  |  50 |\n",
       "| 18  |  42 |\n",
       "| 18  |  56 |\n",
       "| 18  |  76 |\n",
       "| 18  |  84 |\n",
       "| 19  |  36 |\n",
       "| 19  |  46 |\n",
       "| 19  |  68 |\n",
       "| 20  |  32 |\n",
       "| 20  |  48 |\n",
       "| 20  |  52 |\n",
       "| 20  |  56 |\n",
       "| 20  |  64 |\n",
       "| 22  |  66 |\n",
       "| 23  |  54 |\n",
       "| 24  |  70 |\n",
       "| 24  |  92 |\n",
       "| 24  |  93 |\n",
       "| 24  | 120 |\n",
       "| 25  |  85 |\n",
       "\n"
      ],
      "text/plain": [
       "   speed dist\n",
       "1   4      2 \n",
       "2   4     10 \n",
       "3   7      4 \n",
       "4   7     22 \n",
       "5   8     16 \n",
       "6   9     10 \n",
       "7  10     18 \n",
       "8  10     26 \n",
       "9  10     34 \n",
       "10 11     17 \n",
       "11 11     28 \n",
       "12 12     14 \n",
       "13 12     20 \n",
       "14 12     24 \n",
       "15 12     28 \n",
       "16 13     26 \n",
       "17 13     34 \n",
       "18 13     34 \n",
       "19 13     46 \n",
       "20 14     26 \n",
       "21 14     36 \n",
       "22 14     60 \n",
       "23 14     80 \n",
       "24 15     20 \n",
       "25 15     26 \n",
       "26 15     54 \n",
       "27 16     32 \n",
       "28 16     40 \n",
       "29 17     32 \n",
       "30 17     40 \n",
       "31 17     50 \n",
       "32 18     42 \n",
       "33 18     56 \n",
       "34 18     76 \n",
       "35 18     84 \n",
       "36 19     36 \n",
       "37 19     46 \n",
       "38 19     68 \n",
       "39 20     32 \n",
       "40 20     48 \n",
       "41 20     52 \n",
       "42 20     56 \n",
       "43 20     64 \n",
       "44 22     66 \n",
       "45 23     54 \n",
       "46 24     70 \n",
       "47 24     92 \n",
       "48 24     93 \n",
       "49 24    120 \n",
       "50 25     85 "
      ]
     },
     "metadata": {},
     "output_type": "display_data"
    }
   ],
   "source": [
    "cars"
   ]
  },
  {
   "cell_type": "code",
   "execution_count": 2,
   "metadata": {},
   "outputs": [
    {
     "name": "stdout",
     "output_type": "stream",
     "text": [
      "'data.frame':\t50 obs. of  2 variables:\n",
      " $ speed: num  4 4 7 7 8 9 10 10 10 11 ...\n",
      " $ dist : num  2 10 4 22 16 10 18 26 34 17 ...\n"
     ]
    }
   ],
   "source": [
    "str(cars)"
   ]
  },
  {
   "cell_type": "code",
   "execution_count": 3,
   "metadata": {},
   "outputs": [
    {
     "data": {
      "text/html": [
       "<table>\n",
       "<thead><tr><th scope=col>Res.Df</th><th scope=col>RSS</th><th scope=col>Df</th><th scope=col>Sum of Sq</th><th scope=col>F</th><th scope=col>Pr(&gt;F)</th></tr></thead>\n",
       "<tbody>\n",
       "\t<tr><td>48       </td><td>11353.52 </td><td>NA       </td><td>      NA </td><td>       NA</td><td>       NA</td></tr>\n",
       "\t<tr><td>47       </td><td>10824.72 </td><td> 1       </td><td>528.8051 </td><td>2.3108037</td><td>0.1354734</td></tr>\n",
       "\t<tr><td>46       </td><td>10634.36 </td><td> 1       </td><td>190.3540 </td><td>0.8318201</td><td>0.3666071</td></tr>\n",
       "\t<tr><td>45       </td><td>10297.82 </td><td> 1       </td><td>336.5460 </td><td>1.4706585</td><td>0.2315700</td></tr>\n",
       "</tbody>\n",
       "</table>\n"
      ],
      "text/latex": [
       "\\begin{tabular}{r|llllll}\n",
       " Res.Df & RSS & Df & Sum of Sq & F & Pr(>F)\\\\\n",
       "\\hline\n",
       "\t 48        & 11353.52  & NA        &       NA  &        NA &        NA\\\\\n",
       "\t 47        & 10824.72  &  1        & 528.8051  & 2.3108037 & 0.1354734\\\\\n",
       "\t 46        & 10634.36  &  1        & 190.3540  & 0.8318201 & 0.3666071\\\\\n",
       "\t 45        & 10297.82  &  1        & 336.5460  & 1.4706585 & 0.2315700\\\\\n",
       "\\end{tabular}\n"
      ],
      "text/markdown": [
       "\n",
       "| Res.Df | RSS | Df | Sum of Sq | F | Pr(>F) |\n",
       "|---|---|---|---|---|---|\n",
       "| 48        | 11353.52  | NA        |       NA  |        NA |        NA |\n",
       "| 47        | 10824.72  |  1        | 528.8051  | 2.3108037 | 0.1354734 |\n",
       "| 46        | 10634.36  |  1        | 190.3540  | 0.8318201 | 0.3666071 |\n",
       "| 45        | 10297.82  |  1        | 336.5460  | 1.4706585 | 0.2315700 |\n",
       "\n"
      ],
      "text/plain": [
       "  Res.Df RSS      Df Sum of Sq F         Pr(>F)   \n",
       "1 48     11353.52 NA       NA         NA        NA\n",
       "2 47     10824.72  1 528.8051  2.3108037 0.1354734\n",
       "3 46     10634.36  1 190.3540  0.8318201 0.3666071\n",
       "4 45     10297.82  1 336.5460  1.4706585 0.2315700"
      ]
     },
     "metadata": {},
     "output_type": "display_data"
    },
    {
     "data": {
      "image/png": "[encoded data removed]",
      "text/plain": [
       "plot without title"
      ]
     },
     "metadata": {},
     "output_type": "display_data"
    }
   ],
   "source": [
    "plot(cars, xlab = \"Speed (mph)\", ylab = \"Stopping distance (ft)\",\n",
    "    las = 1, xlim = c(0, 25))\n",
    "d <- seq(0, 25, length.out = 200)\n",
    "for(degree in 1:4) {\n",
    "  fm <- lm(dist ~ poly(speed, degree), data = cars)\n",
    "  assign(paste(\"cars\", degree, sep = \".\"), fm)\n",
    "  lines(d, predict(fm, data.frame(speed = d)), col = degree)\n",
    "}\n",
    "anova(cars.1, cars.2, cars.3, cars.4)"
   ]
  },
  {
   "cell_type": "code",
   "execution_count": 4,
   "metadata": {},
   "outputs": [],
   "source": [
    "data1 <- cars"
   ]
  },
  {
   "cell_type": "code",
   "execution_count": 5,
   "metadata": {},
   "outputs": [
    {
     "data": {
      "image/png": "[encoded data removed]",
      "text/plain": [
       "plot without title"
      ]
     },
     "metadata": {},
     "output_type": "display_data"
    }
   ],
   "source": [
    "plot(data1)"
   ]
  },
  {
   "cell_type": "code",
   "execution_count": 7,
   "metadata": {},
   "outputs": [],
   "source": [
    "fit.cars <- lm(dist~speed, data=cars)"
   ]
  },
  {
   "cell_type": "code",
   "execution_count": 8,
   "metadata": {},
   "outputs": [
    {
     "data": {
      "text/plain": [
       "\n",
       "Call:\n",
       "lm(formula = dist ~ speed, data = cars)\n",
       "\n",
       "Residuals:\n",
       "    Min      1Q  Median      3Q     Max \n",
       "-29.069  -9.525  -2.272   9.215  43.201 \n",
       "\n",
       "Coefficients:\n",
       "            Estimate Std. Error t value Pr(>|t|)    \n",
       "(Intercept) -17.5791     6.7584  -2.601   0.0123 *  \n",
       "speed         3.9324     0.4155   9.464 1.49e-12 ***\n",
       "---\n",
       "Signif. codes:  0 '***' 0.001 '**' 0.01 '*' 0.05 '.' 0.1 ' ' 1\n",
       "\n",
       "Residual standard error: 15.38 on 48 degrees of freedom\n",
       "Multiple R-squared:  0.6511,\tAdjusted R-squared:  0.6438 \n",
       "F-statistic: 89.57 on 1 and 48 DF,  p-value: 1.49e-12\n"
      ]
     },
     "metadata": {},
     "output_type": "display_data"
    }
   ],
   "source": [
    "summary(fit.cars)"
   ]
  },
  {
   "cell_type": "code",
   "execution_count": 9,
   "metadata": {},
   "outputs": [
    {
     "name": "stdout",
     "output_type": "stream",
     "text": [
      "List of 12\n",
      " $ coefficients : Named num [1:2] -17.58 3.93\n",
      "  ..- attr(*, \"names\")= chr [1:2] \"(Intercept)\" \"speed\"\n",
      " $ residuals    : Named num [1:50] 3.85 11.85 -5.95 12.05 2.12 ...\n",
      "  ..- attr(*, \"names\")= chr [1:50] \"1\" \"2\" \"3\" \"4\" ...\n",
      " $ effects      : Named num [1:50] -303.914 145.552 -8.115 9.885 0.194 ...\n",
      "  ..- attr(*, \"names\")= chr [1:50] \"(Intercept)\" \"speed\" \"\" \"\" ...\n",
      " $ rank         : int 2\n",
      " $ fitted.values: Named num [1:50] -1.85 -1.85 9.95 9.95 13.88 ...\n",
      "  ..- attr(*, \"names\")= chr [1:50] \"1\" \"2\" \"3\" \"4\" ...\n",
      " $ assign       : int [1:2] 0 1\n",
      " $ qr           :List of 5\n",
      "  ..$ qr   : num [1:50, 1:2] -7.071 0.141 0.141 0.141 0.141 ...\n",
      "  .. ..- attr(*, \"dimnames\")=List of 2\n",
      "  .. .. ..$ : chr [1:50] \"1\" \"2\" \"3\" \"4\" ...\n",
      "  .. .. ..$ : chr [1:2] \"(Intercept)\" \"speed\"\n",
      "  .. ..- attr(*, \"assign\")= int [1:2] 0 1\n",
      "  ..$ qraux: num [1:2] 1.14 1.27\n",
      "  ..$ pivot: int [1:2] 1 2\n",
      "  ..$ tol  : num 1e-07\n",
      "  ..$ rank : int 2\n",
      "  ..- attr(*, \"class\")= chr \"qr\"\n",
      " $ df.residual  : int 48\n",
      " $ xlevels      : Named list()\n",
      " $ call         : language lm(formula = dist ~ speed, data = cars)\n",
      " $ terms        :Classes 'terms', 'formula'  language dist ~ speed\n",
      "  .. ..- attr(*, \"variables\")= language list(dist, speed)\n",
      "  .. ..- attr(*, \"factors\")= int [1:2, 1] 0 1\n",
      "  .. .. ..- attr(*, \"dimnames\")=List of 2\n",
      "  .. .. .. ..$ : chr [1:2] \"dist\" \"speed\"\n",
      "  .. .. .. ..$ : chr \"speed\"\n",
      "  .. ..- attr(*, \"term.labels\")= chr \"speed\"\n",
      "  .. ..- attr(*, \"order\")= int 1\n",
      "  .. ..- attr(*, \"intercept\")= int 1\n",
      "  .. ..- attr(*, \"response\")= int 1\n",
      "  .. ..- attr(*, \".Environment\")=<environment: R_GlobalEnv> \n",
      "  .. ..- attr(*, \"predvars\")= language list(dist, speed)\n",
      "  .. ..- attr(*, \"dataClasses\")= Named chr [1:2] \"numeric\" \"numeric\"\n",
      "  .. .. ..- attr(*, \"names\")= chr [1:2] \"dist\" \"speed\"\n",
      " $ model        :'data.frame':\t50 obs. of  2 variables:\n",
      "  ..$ dist : num [1:50] 2 10 4 22 16 10 18 26 34 17 ...\n",
      "  ..$ speed: num [1:50] 4 4 7 7 8 9 10 10 10 11 ...\n",
      "  ..- attr(*, \"terms\")=Classes 'terms', 'formula'  language dist ~ speed\n",
      "  .. .. ..- attr(*, \"variables\")= language list(dist, speed)\n",
      "  .. .. ..- attr(*, \"factors\")= int [1:2, 1] 0 1\n",
      "  .. .. .. ..- attr(*, \"dimnames\")=List of 2\n",
      "  .. .. .. .. ..$ : chr [1:2] \"dist\" \"speed\"\n",
      "  .. .. .. .. ..$ : chr \"speed\"\n",
      "  .. .. ..- attr(*, \"term.labels\")= chr \"speed\"\n",
      "  .. .. ..- attr(*, \"order\")= int 1\n",
      "  .. .. ..- attr(*, \"intercept\")= int 1\n",
      "  .. .. ..- attr(*, \"response\")= int 1\n",
      "  .. .. ..- attr(*, \".Environment\")=<environment: R_GlobalEnv> \n",
      "  .. .. ..- attr(*, \"predvars\")= language list(dist, speed)\n",
      "  .. .. ..- attr(*, \"dataClasses\")= Named chr [1:2] \"numeric\" \"numeric\"\n",
      "  .. .. .. ..- attr(*, \"names\")= chr [1:2] \"dist\" \"speed\"\n",
      " - attr(*, \"class\")= chr \"lm\"\n"
     ]
    }
   ],
   "source": [
    "str(fit.cars)"
   ]
  },
  {
   "cell_type": "code",
   "execution_count": 10,
   "metadata": {},
   "outputs": [
    {
     "data": {
      "text/html": [
       "<pre class=language-r><code>function (x, method = \"euclidean\", diag = FALSE, upper = FALSE, \n",
       "<span style=white-space:pre-wrap>    p = 2) </span>\n",
       "{\n",
       "<span style=white-space:pre-wrap>    if (!is.na(pmatch(method, \"euclidian\"))) </span>\n",
       "<span style=white-space:pre-wrap>        method &lt;- \"euclidean\"</span>\n",
       "<span style=white-space:pre-wrap>    METHODS &lt;- c(\"euclidean\", \"maximum\", \"manhattan\", \"canberra\", </span>\n",
       "<span style=white-space:pre-wrap>        \"binary\", \"minkowski\")</span>\n",
       "<span style=white-space:pre-wrap>    method &lt;- pmatch(method, METHODS)</span>\n",
       "<span style=white-space:pre-wrap>    if (is.na(method)) </span>\n",
       "<span style=white-space:pre-wrap>        stop(\"invalid distance method\")</span>\n",
       "<span style=white-space:pre-wrap>    if (method == -1) </span>\n",
       "<span style=white-space:pre-wrap>        stop(\"ambiguous distance method\")</span>\n",
       "<span style=white-space:pre-wrap>    x &lt;- as.matrix(x)</span>\n",
       "<span style=white-space:pre-wrap>    N &lt;- nrow(x)</span>\n",
       "<span style=white-space:pre-wrap>    attrs &lt;- if (method == 6L) </span>\n",
       "<span style=white-space:pre-wrap>        list(Size = N, Labels = dimnames(x)[[1L]], Diag = diag, </span>\n",
       "<span style=white-space:pre-wrap>            Upper = upper, method = METHODS[method], p = p, call = match.call(), </span>\n",
       "<span style=white-space:pre-wrap>            class = \"dist\")</span>\n",
       "<span style=white-space:pre-wrap>    else list(Size = N, Labels = dimnames(x)[[1L]], Diag = diag, </span>\n",
       "<span style=white-space:pre-wrap>        Upper = upper, method = METHODS[method], call = match.call(), </span>\n",
       "<span style=white-space:pre-wrap>        class = \"dist\")</span>\n",
       "<span style=white-space:pre-wrap>    .Call(C_Cdist, x, method, attrs, p)</span>\n",
       "}</code></pre>"
      ],
      "text/latex": [
       "\\begin{minted}{r}\n",
       "function (x, method = \"euclidean\", diag = FALSE, upper = FALSE, \n",
       "    p = 2) \n",
       "\\{\n",
       "    if (!is.na(pmatch(method, \"euclidian\"))) \n",
       "        method <- \"euclidean\"\n",
       "    METHODS <- c(\"euclidean\", \"maximum\", \"manhattan\", \"canberra\", \n",
       "        \"binary\", \"minkowski\")\n",
       "    method <- pmatch(method, METHODS)\n",
       "    if (is.na(method)) \n",
       "        stop(\"invalid distance method\")\n",
       "    if (method == -1) \n",
       "        stop(\"ambiguous distance method\")\n",
       "    x <- as.matrix(x)\n",
       "    N <- nrow(x)\n",
       "    attrs <- if (method == 6L) \n",
       "        list(Size = N, Labels = dimnames(x){[}{[}1L{]}{]}, Diag = diag, \n",
       "            Upper = upper, method = METHODS{[}method{]}, p = p, call = match.call(), \n",
       "            class = \"dist\")\n",
       "    else list(Size = N, Labels = dimnames(x){[}{[}1L{]}{]}, Diag = diag, \n",
       "        Upper = upper, method = METHODS{[}method{]}, call = match.call(), \n",
       "        class = \"dist\")\n",
       "    .Call(C\\_Cdist, x, method, attrs, p)\n",
       "\\}\n",
       "\\end{minted}"
      ],
      "text/markdown": [
       "```r\n",
       "function (x, method = \"euclidean\", diag = FALSE, upper = FALSE, \n",
       "    p = 2) \n",
       "{\n",
       "    if (!is.na(pmatch(method, \"euclidian\"))) \n",
       "        method <- \"euclidean\"\n",
       "    METHODS <- c(\"euclidean\", \"maximum\", \"manhattan\", \"canberra\", \n",
       "        \"binary\", \"minkowski\")\n",
       "    method <- pmatch(method, METHODS)\n",
       "    if (is.na(method)) \n",
       "        stop(\"invalid distance method\")\n",
       "    if (method == -1) \n",
       "        stop(\"ambiguous distance method\")\n",
       "    x <- as.matrix(x)\n",
       "    N <- nrow(x)\n",
       "    attrs <- if (method == 6L) \n",
       "        list(Size = N, Labels = dimnames(x)[[1L]], Diag = diag, \n",
       "            Upper = upper, method = METHODS[method], p = p, call = match.call(), \n",
       "            class = \"dist\")\n",
       "    else list(Size = N, Labels = dimnames(x)[[1L]], Diag = diag, \n",
       "        Upper = upper, method = METHODS[method], call = match.call(), \n",
       "        class = \"dist\")\n",
       "    .Call(C_Cdist, x, method, attrs, p)\n",
       "}\n",
       "```"
      ],
      "text/plain": [
       "function (x, method = \"euclidean\", diag = FALSE, upper = FALSE, \n",
       "    p = 2) \n",
       "{\n",
       "    if (!is.na(pmatch(method, \"euclidian\"))) \n",
       "        method <- \"euclidean\"\n",
       "    METHODS <- c(\"euclidean\", \"maximum\", \"manhattan\", \"canberra\", \n",
       "        \"binary\", \"minkowski\")\n",
       "    method <- pmatch(method, METHODS)\n",
       "    if (is.na(method)) \n",
       "        stop(\"invalid distance method\")\n",
       "    if (method == -1) \n",
       "        stop(\"ambiguous distance method\")\n",
       "    x <- as.matrix(x)\n",
       "    N <- nrow(x)\n",
       "    attrs <- if (method == 6L) \n",
       "        list(Size = N, Labels = dimnames(x)[[1L]], Diag = diag, \n",
       "            Upper = upper, method = METHODS[method], p = p, call = match.call(), \n",
       "            class = \"dist\")\n",
       "    else list(Size = N, Labels = dimnames(x)[[1L]], Diag = diag, \n",
       "        Upper = upper, method = METHODS[method], call = match.call(), \n",
       "        class = \"dist\")\n",
       "    .Call(C_Cdist, x, method, attrs, p)\n",
       "}\n",
       "<bytecode: 0x0000000005650060>\n",
       "<environment: namespace:stats>"
      ]
     },
     "metadata": {},
     "output_type": "display_data"
    }
   ],
   "source": [
    "dist"
   ]
  },
  {
   "cell_type": "code",
   "execution_count": 11,
   "metadata": {},
   "outputs": [],
   "source": [
    "attach(cars)"
   ]
  }
 ],
 "metadata": {
  "kernelspec": {
   "display_name": "R",
   "language": "R",
   "name": "ir"
  },
  "language_info": {
   "codemirror_mode": {
    "name": "ipython",
    "version": 3
   },
   "file_extension": ".py",
   "mimetype": "text/x-python",
   "name": "python",
   "nbconvert_exporter": "python",
   "pygments_lexer": "ipython3",
   "version": "3.7.3"
  }
 },
 "nbformat": 4,
 "nbformat_minor": 4
}

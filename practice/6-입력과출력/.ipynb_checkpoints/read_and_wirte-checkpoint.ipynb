{
 "cells": [
  {
   "cell_type": "markdown",
   "metadata": {},
   "source": [
    "## ==파일을 통해 데이터를 입력받고 다시 파일로 저장하는 연습=="
   ]
  },
  {
   "cell_type": "markdown",
   "metadata": {},
   "source": [
    "### 1. 파일열기\n",
    "#### 파일에서 데이터를 읽는 형식은 다음과 같다.\n",
    "f = open('file_name', 'mode')\n",
    "\n",
    "모드는 총 6가지가 있으며 각각의 모드들은 조합해서 사용이 가능하다.  \n",
    "r : 기본적인 읽기 모드  \n",
    "w : 쓰기 & 덮어쓰기  \n",
    "x : 쓰기 & 덮어쓰기 방지 -> 같은 파일 이름이 있을 경우 에러발생  \n",
    "a : 쓰기 & 이어쓰기  \n",
    "b : 바이너리 모드로 파일 열기   \n",
    "* 텍스트 모드는 정수를 아스키코드로 저장하는 반면 바이너리는 숫자 그대로를 저장한다.   \n",
    "\n",
    "t : 텍스트 파일 모드로 파일 열기  \n",
    "  "
   ]
  },
  {
   "cell_type": "markdown",
   "metadata": {},
   "source": [
    "### 2. 파일쓰기\n",
    "\n",
    "파일을 쓰는 형식은 다음과 같다.  \n",
    "f = open('file_name', 'w') #파일명을 'w'모드로 열어서 f객체로 반환한다.  \n",
    "f.write(str) #파일 객체 f에 str를 입력한다.  \n",
    "f.close() #객체를 닫고 종료한다.  "
   ]
  },
  {
   "cell_type": "code",
   "execution_count": null,
   "metadata": {},
   "outputs": [],
   "source": [
    "#예제\n",
    "\n"
   ]
  }
 ],
 "metadata": {
  "kernelspec": {
   "display_name": "Python 3",
   "language": "python",
   "name": "python3"
  },
  "language_info": {
   "codemirror_mode": {
    "name": "ipython",
    "version": 3
   },
   "file_extension": ".py",
   "mimetype": "text/x-python",
   "name": "python",
   "nbconvert_exporter": "python",
   "pygments_lexer": "ipython3",
   "version": "3.7.3"
  }
 },
 "nbformat": 4,
 "nbformat_minor": 2
}

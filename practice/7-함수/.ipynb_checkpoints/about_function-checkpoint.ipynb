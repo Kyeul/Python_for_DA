{
 "cells": [
  {
   "cell_type": "code",
   "execution_count": 15,
   "metadata": {},
   "outputs": [],
   "source": [
    "#p.122\n",
    "#변수 scope 알아보기 \n",
    "\n",
    "a = 5\n",
    "\n",
    "def func1():\n",
    "    a = 1\n",
    "    print(\"[func1] a={}\" .format(a))\n",
    "    \n",
    "def func2():\n",
    "    a = 2\n",
    "    print(\"[func2] 지역변수 a = {}\" .format(a))\n",
    "\n",
    "def func3():\n",
    "    global a #함수 내의 변수 a를 global scope로 확장\n",
    "    a = 10\n",
    "    print(\"[func3] 전역변수 a= {}\" .format(a))\n",
    "    \n",
    "def func4():\n",
    "    a = 3\n",
    "    print(\"[func4] 전역 변수 a = {}\" .format(a))\n",
    "    \n",
    "\n",
    "    "
   ]
  },
  {
   "cell_type": "code",
   "execution_count": 7,
   "metadata": {},
   "outputs": [
    {
     "name": "stdout",
     "output_type": "stream",
     "text": [
      "[1, 2, 3, 4, 5]\n"
     ]
    }
   ],
   "source": [
    "def list_def(*args):\n",
    "    return list(args)\n",
    "\n"
   ]
  },
  {
   "cell_type": "code",
   "execution_count": 8,
   "metadata": {},
   "outputs": [
    {
     "name": "stdout",
     "output_type": "stream",
     "text": [
      "[1, 2, 3, 4, 5]\n"
     ]
    }
   ],
   "source": [
    "call_def = list_def(1,2,3,4,5)\n",
    "print(call_def)"
   ]
  },
  {
   "cell_type": "code",
   "execution_count": 9,
   "metadata": {},
   "outputs": [
    {
     "name": "stdout",
     "output_type": "stream",
     "text": [
      "[6, 7, 8, 9, 10]\n"
     ]
    }
   ],
   "source": [
    "call_def = list_def(6,7,8,9,10)\n",
    "print(call_def)"
   ]
  },
  {
   "cell_type": "markdown",
   "metadata": {},
   "source": [
    "## Keyword Parameter\n",
    "\n",
    "함수를 통해 딕셔너리 type을 만들 수 있다.  \n",
    "함수의 parameter는 key값이 되고, argument는 value가 된다.\n",
    "\n",
    " ### 형태\n",
    "'''  \n",
    "    def def_name( \\*\\*args): &nbsp; #인자 앞에 **를 쓴다.  \n",
    "''' "
   ]
  },
  {
   "cell_type": "code",
   "execution_count": 1,
   "metadata": {},
   "outputs": [],
   "source": [
    "def kywrd_arg(**arg):\n",
    "    \"\"\"\n",
    "    키워드 파라미터 테스트\n",
    "    \"\"\"\n",
    "    return arg\n"
   ]
  },
  {
   "cell_type": "code",
   "execution_count": 2,
   "metadata": {},
   "outputs": [
    {
     "name": "stdout",
     "output_type": "stream",
     "text": [
      "{'hi': 1, 'hello': 2, 'good_bye': 3}\n"
     ]
    }
   ],
   "source": [
    "var = kywrd_arg(hi = 1, hello = 2, good_bye = 3)\n",
    "print(var)"
   ]
  },
  {
   "cell_type": "code",
   "execution_count": 6,
   "metadata": {},
   "outputs": [
    {
     "name": "stdout",
     "output_type": "stream",
     "text": [
      "{'nice': 4, 'meet': 5, 'you': 6}\n"
     ]
    }
   ],
   "source": [
    "var = kywrd_arg(nice = 4, meet = 5, you = 6)\n",
    "print(var)"
   ]
  },
  {
   "cell_type": "code",
   "execution_count": null,
   "metadata": {},
   "outputs": [],
   "source": []
  }
 ],
 "metadata": {
  "kernelspec": {
   "display_name": "Python 3",
   "language": "python",
   "name": "python3"
  },
  "language_info": {
   "codemirror_mode": {
    "name": "ipython",
    "version": 3
   },
   "file_extension": ".py",
   "mimetype": "text/x-python",
   "name": "python",
   "nbconvert_exporter": "python",
   "pygments_lexer": "ipython3",
   "version": "3.7.3"
  }
 },
 "nbformat": 4,
 "nbformat_minor": 2
}
